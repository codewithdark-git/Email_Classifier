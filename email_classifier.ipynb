{
 "cells": [
  {
   "cell_type": "markdown",
   "id": "807b912f",
   "metadata": {
    "papermill": {
     "duration": 0.012237,
     "end_time": "2024-10-18T09:22:55.381672",
     "exception": false,
     "start_time": "2024-10-18T09:22:55.369435",
     "status": "completed"
    },
    "tags": []
   },
   "source": [
    "# **Import the libraries**"
   ]
  },
  {
   "cell_type": "code",
   "execution_count": 24,
   "id": "d939b503",
   "metadata": {
    "execution": {
     "iopub.execute_input": "2024-10-18T09:22:55.409761Z",
     "iopub.status.busy": "2024-10-18T09:22:55.409289Z",
     "iopub.status.idle": "2024-10-18T09:22:59.417108Z",
     "shell.execute_reply": "2024-10-18T09:22:59.415724Z"
    },
    "papermill": {
     "duration": 4.024353,
     "end_time": "2024-10-18T09:22:59.419562",
     "exception": false,
     "start_time": "2024-10-18T09:22:55.395209",
     "status": "completed"
    },
    "tags": []
   },
   "outputs": [
    {
     "name": "stderr",
     "output_type": "stream",
     "text": [
      "[nltk_data] Downloading package stopwords to\n",
      "[nltk_data]     C:\\Users\\Dark_Coder\\AppData\\Roaming\\nltk_data...\n",
      "[nltk_data]   Package stopwords is already up-to-date!\n"
     ]
    },
    {
     "data": {
      "text/plain": [
       "True"
      ]
     },
     "execution_count": 24,
     "metadata": {},
     "output_type": "execute_result"
    }
   ],
   "source": [
    "# Import libraries \n",
    "import pandas as pd\n",
    "import numpy as np\n",
    "import matplotlib.pyplot as plt\n",
    "import seaborn as sns\n",
    "# Machine learning libraries\n",
    "from sklearn.model_selection import train_test_split\n",
    "from sklearn.feature_extraction.text import TfidfVectorizer\n",
    "from sklearn.naive_bayes import MultinomialNB\n",
    "from sklearn.naive_bayes import GaussianNB\n",
    "from sklearn.metrics import accuracy_score, classification_report\n",
    "from nltk.corpus import stopwords\n",
    "from nltk.stem import SnowballStemmer\n",
    "import string\n",
    "import nltk\n",
    "nltk.download('stopwords')"
   ]
  },
  {
   "cell_type": "markdown",
   "id": "794eceb6",
   "metadata": {
    "papermill": {
     "duration": 0.012721,
     "end_time": "2024-10-18T09:22:59.445631",
     "exception": false,
     "start_time": "2024-10-18T09:22:59.432910",
     "status": "completed"
    },
    "tags": []
   },
   "source": [
    "## Load the dataset"
   ]
  },
  {
   "cell_type": "code",
   "execution_count": 2,
   "id": "0f28d02d",
   "metadata": {
    "execution": {
     "iopub.execute_input": "2024-10-18T09:22:59.474045Z",
     "iopub.status.busy": "2024-10-18T09:22:59.473340Z",
     "iopub.status.idle": "2024-10-18T09:22:59.624677Z",
     "shell.execute_reply": "2024-10-18T09:22:59.623501Z"
    },
    "papermill": {
     "duration": 0.16868,
     "end_time": "2024-10-18T09:22:59.627452",
     "exception": false,
     "start_time": "2024-10-18T09:22:59.458772",
     "status": "completed"
    },
    "tags": []
   },
   "outputs": [],
   "source": [
    "# Read CSV through pandas \n",
    "df=pd.read_csv(\"spam_ham_dataset.csv\")"
   ]
  },
  {
   "cell_type": "code",
   "execution_count": 3,
   "id": "ee6d2157",
   "metadata": {
    "execution": {
     "iopub.execute_input": "2024-10-18T09:22:59.656634Z",
     "iopub.status.busy": "2024-10-18T09:22:59.655751Z",
     "iopub.status.idle": "2024-10-18T09:22:59.676306Z",
     "shell.execute_reply": "2024-10-18T09:22:59.675066Z"
    },
    "papermill": {
     "duration": 0.037541,
     "end_time": "2024-10-18T09:22:59.678799",
     "exception": false,
     "start_time": "2024-10-18T09:22:59.641258",
     "status": "completed"
    },
    "tags": []
   },
   "outputs": [
    {
     "data": {
      "text/html": [
       "<div>\n",
       "<style scoped>\n",
       "    .dataframe tbody tr th:only-of-type {\n",
       "        vertical-align: middle;\n",
       "    }\n",
       "\n",
       "    .dataframe tbody tr th {\n",
       "        vertical-align: top;\n",
       "    }\n",
       "\n",
       "    .dataframe thead th {\n",
       "        text-align: right;\n",
       "    }\n",
       "</style>\n",
       "<table border=\"1\" class=\"dataframe\">\n",
       "  <thead>\n",
       "    <tr style=\"text-align: right;\">\n",
       "      <th></th>\n",
       "      <th>Unnamed: 0</th>\n",
       "      <th>label</th>\n",
       "      <th>text</th>\n",
       "      <th>label_num</th>\n",
       "    </tr>\n",
       "  </thead>\n",
       "  <tbody>\n",
       "    <tr>\n",
       "      <th>0</th>\n",
       "      <td>605</td>\n",
       "      <td>ham</td>\n",
       "      <td>Subject: enron methanol ; meter # : 988291\\r\\n...</td>\n",
       "      <td>0</td>\n",
       "    </tr>\n",
       "    <tr>\n",
       "      <th>1</th>\n",
       "      <td>2349</td>\n",
       "      <td>ham</td>\n",
       "      <td>Subject: hpl nom for january 9 , 2001\\r\\n( see...</td>\n",
       "      <td>0</td>\n",
       "    </tr>\n",
       "    <tr>\n",
       "      <th>2</th>\n",
       "      <td>3624</td>\n",
       "      <td>ham</td>\n",
       "      <td>Subject: neon retreat\\r\\nho ho ho , we ' re ar...</td>\n",
       "      <td>0</td>\n",
       "    </tr>\n",
       "    <tr>\n",
       "      <th>3</th>\n",
       "      <td>4685</td>\n",
       "      <td>spam</td>\n",
       "      <td>Subject: photoshop , windows , office . cheap ...</td>\n",
       "      <td>1</td>\n",
       "    </tr>\n",
       "    <tr>\n",
       "      <th>4</th>\n",
       "      <td>2030</td>\n",
       "      <td>ham</td>\n",
       "      <td>Subject: re : indian springs\\r\\nthis deal is t...</td>\n",
       "      <td>0</td>\n",
       "    </tr>\n",
       "  </tbody>\n",
       "</table>\n",
       "</div>"
      ],
      "text/plain": [
       "   Unnamed: 0 label                                               text  \\\n",
       "0         605   ham  Subject: enron methanol ; meter # : 988291\\r\\n...   \n",
       "1        2349   ham  Subject: hpl nom for january 9 , 2001\\r\\n( see...   \n",
       "2        3624   ham  Subject: neon retreat\\r\\nho ho ho , we ' re ar...   \n",
       "3        4685  spam  Subject: photoshop , windows , office . cheap ...   \n",
       "4        2030   ham  Subject: re : indian springs\\r\\nthis deal is t...   \n",
       "\n",
       "   label_num  \n",
       "0          0  \n",
       "1          0  \n",
       "2          0  \n",
       "3          1  \n",
       "4          0  "
      ]
     },
     "execution_count": 3,
     "metadata": {},
     "output_type": "execute_result"
    }
   ],
   "source": [
    "# load first 5 dataset\n",
    "df.head()"
   ]
  },
  {
   "cell_type": "markdown",
   "id": "69495e93",
   "metadata": {
    "papermill": {
     "duration": 0.012847,
     "end_time": "2024-10-18T09:22:59.705395",
     "exception": false,
     "start_time": "2024-10-18T09:22:59.692548",
     "status": "completed"
    },
    "tags": []
   },
   "source": [
    "## Check the shape of the dataset"
   ]
  },
  {
   "cell_type": "code",
   "execution_count": 4,
   "id": "963dd6d0",
   "metadata": {
    "execution": {
     "iopub.execute_input": "2024-10-18T09:22:59.733690Z",
     "iopub.status.busy": "2024-10-18T09:22:59.733266Z",
     "iopub.status.idle": "2024-10-18T09:22:59.739339Z",
     "shell.execute_reply": "2024-10-18T09:22:59.738113Z"
    },
    "papermill": {
     "duration": 0.023422,
     "end_time": "2024-10-18T09:22:59.742084",
     "exception": false,
     "start_time": "2024-10-18T09:22:59.718662",
     "status": "completed"
    },
    "tags": []
   },
   "outputs": [
    {
     "name": "stdout",
     "output_type": "stream",
     "text": [
      "The number of rows in a dataset 5171\n",
      "The number of columns in a dataset 4\n"
     ]
    }
   ],
   "source": [
    "print(f\"The number of rows in a dataset {df.shape[0]}\")\n",
    "print(f\"The number of columns in a dataset {df.shape[1]}\")"
   ]
  },
  {
   "cell_type": "code",
   "execution_count": 5,
   "id": "10b44bee",
   "metadata": {
    "execution": {
     "iopub.execute_input": "2024-10-18T09:22:59.771580Z",
     "iopub.status.busy": "2024-10-18T09:22:59.771159Z",
     "iopub.status.idle": "2024-10-18T09:22:59.801408Z",
     "shell.execute_reply": "2024-10-18T09:22:59.799971Z"
    },
    "papermill": {
     "duration": 0.048543,
     "end_time": "2024-10-18T09:22:59.804215",
     "exception": false,
     "start_time": "2024-10-18T09:22:59.755672",
     "status": "completed"
    },
    "tags": []
   },
   "outputs": [
    {
     "name": "stdout",
     "output_type": "stream",
     "text": [
      "<class 'pandas.core.frame.DataFrame'>\n",
      "RangeIndex: 5171 entries, 0 to 5170\n",
      "Data columns (total 4 columns):\n",
      " #   Column      Non-Null Count  Dtype \n",
      "---  ------      --------------  ----- \n",
      " 0   Unnamed: 0  5171 non-null   int64 \n",
      " 1   label       5171 non-null   object\n",
      " 2   text        5171 non-null   object\n",
      " 3   label_num   5171 non-null   int64 \n",
      "dtypes: int64(2), object(2)\n",
      "memory usage: 161.7+ KB\n"
     ]
    }
   ],
   "source": [
    "# lets see the info of the data\n",
    "df.info()"
   ]
  },
  {
   "cell_type": "markdown",
   "id": "508e0d3c",
   "metadata": {
    "papermill": {
     "duration": 0.013119,
     "end_time": "2024-10-18T09:22:59.831575",
     "exception": false,
     "start_time": "2024-10-18T09:22:59.818456",
     "status": "completed"
    },
    "tags": []
   },
   "source": [
    "- This info tell that there are two numericals and two categoricals Dtype"
   ]
  },
  {
   "cell_type": "code",
   "execution_count": 6,
   "id": "9e683dcb",
   "metadata": {
    "execution": {
     "iopub.execute_input": "2024-10-18T09:22:59.862120Z",
     "iopub.status.busy": "2024-10-18T09:22:59.860727Z",
     "iopub.status.idle": "2024-10-18T09:22:59.886103Z",
     "shell.execute_reply": "2024-10-18T09:22:59.884911Z"
    },
    "papermill": {
     "duration": 0.043512,
     "end_time": "2024-10-18T09:22:59.888663",
     "exception": false,
     "start_time": "2024-10-18T09:22:59.845151",
     "status": "completed"
    },
    "tags": []
   },
   "outputs": [
    {
     "data": {
      "text/html": [
       "<div>\n",
       "<style scoped>\n",
       "    .dataframe tbody tr th:only-of-type {\n",
       "        vertical-align: middle;\n",
       "    }\n",
       "\n",
       "    .dataframe tbody tr th {\n",
       "        vertical-align: top;\n",
       "    }\n",
       "\n",
       "    .dataframe thead th {\n",
       "        text-align: right;\n",
       "    }\n",
       "</style>\n",
       "<table border=\"1\" class=\"dataframe\">\n",
       "  <thead>\n",
       "    <tr style=\"text-align: right;\">\n",
       "      <th></th>\n",
       "      <th>count</th>\n",
       "      <th>mean</th>\n",
       "      <th>std</th>\n",
       "      <th>min</th>\n",
       "      <th>25%</th>\n",
       "      <th>50%</th>\n",
       "      <th>75%</th>\n",
       "      <th>max</th>\n",
       "    </tr>\n",
       "  </thead>\n",
       "  <tbody>\n",
       "    <tr>\n",
       "      <th>Unnamed: 0</th>\n",
       "      <td>5171.0</td>\n",
       "      <td>2585.000000</td>\n",
       "      <td>1492.883452</td>\n",
       "      <td>0.0</td>\n",
       "      <td>1292.5</td>\n",
       "      <td>2585.0</td>\n",
       "      <td>3877.5</td>\n",
       "      <td>5170.0</td>\n",
       "    </tr>\n",
       "    <tr>\n",
       "      <th>label_num</th>\n",
       "      <td>5171.0</td>\n",
       "      <td>0.289886</td>\n",
       "      <td>0.453753</td>\n",
       "      <td>0.0</td>\n",
       "      <td>0.0</td>\n",
       "      <td>0.0</td>\n",
       "      <td>1.0</td>\n",
       "      <td>1.0</td>\n",
       "    </tr>\n",
       "  </tbody>\n",
       "</table>\n",
       "</div>"
      ],
      "text/plain": [
       "             count         mean          std  min     25%     50%     75%  \\\n",
       "Unnamed: 0  5171.0  2585.000000  1492.883452  0.0  1292.5  2585.0  3877.5   \n",
       "label_num   5171.0     0.289886     0.453753  0.0     0.0     0.0     1.0   \n",
       "\n",
       "               max  \n",
       "Unnamed: 0  5170.0  \n",
       "label_num      1.0  "
      ]
     },
     "execution_count": 6,
     "metadata": {},
     "output_type": "execute_result"
    }
   ],
   "source": [
    "df.describe().T"
   ]
  },
  {
   "cell_type": "markdown",
   "id": "4f8eff66",
   "metadata": {
    "papermill": {
     "duration": 0.01412,
     "end_time": "2024-10-18T09:22:59.917149",
     "exception": false,
     "start_time": "2024-10-18T09:22:59.903029",
     "status": "completed"
    },
    "tags": []
   },
   "source": [
    "---\n",
    "# **Check the Null values**"
   ]
  },
  {
   "cell_type": "code",
   "execution_count": 7,
   "id": "2757ff22",
   "metadata": {
    "execution": {
     "iopub.execute_input": "2024-10-18T09:22:59.946826Z",
     "iopub.status.busy": "2024-10-18T09:22:59.946323Z",
     "iopub.status.idle": "2024-10-18T09:22:59.956139Z",
     "shell.execute_reply": "2024-10-18T09:22:59.954943Z"
    },
    "papermill": {
     "duration": 0.02768,
     "end_time": "2024-10-18T09:22:59.958629",
     "exception": false,
     "start_time": "2024-10-18T09:22:59.930949",
     "status": "completed"
    },
    "tags": []
   },
   "outputs": [
    {
     "data": {
      "text/plain": [
       "Unnamed: 0    0\n",
       "label         0\n",
       "text          0\n",
       "label_num     0\n",
       "dtype: int64"
      ]
     },
     "execution_count": 7,
     "metadata": {},
     "output_type": "execute_result"
    }
   ],
   "source": [
    "# Check the null values in a given dataset\n",
    "df.isnull().sum()"
   ]
  },
  {
   "cell_type": "markdown",
   "id": "11132fab",
   "metadata": {
    "papermill": {
     "duration": 0.013535,
     "end_time": "2024-10-18T09:22:59.985998",
     "exception": false,
     "start_time": "2024-10-18T09:22:59.972463",
     "status": "completed"
    },
    "tags": []
   },
   "source": [
    "- No null values in a dataset"
   ]
  },
  {
   "cell_type": "code",
   "execution_count": 8,
   "id": "9c1e9a7c",
   "metadata": {
    "execution": {
     "iopub.execute_input": "2024-10-18T09:23:00.018917Z",
     "iopub.status.busy": "2024-10-18T09:23:00.018460Z",
     "iopub.status.idle": "2024-10-18T09:23:00.041610Z",
     "shell.execute_reply": "2024-10-18T09:23:00.040095Z"
    },
    "papermill": {
     "duration": 0.042986,
     "end_time": "2024-10-18T09:23:00.044178",
     "exception": false,
     "start_time": "2024-10-18T09:23:00.001192",
     "status": "completed"
    },
    "tags": []
   },
   "outputs": [
    {
     "name": "stdout",
     "output_type": "stream",
     "text": [
      "Duplicated values in a dataset: 0\n"
     ]
    }
   ],
   "source": [
    "# Check the duplicated values \n",
    "print(f\"Duplicated values in a dataset: {df.duplicated().sum()}\")"
   ]
  },
  {
   "cell_type": "markdown",
   "id": "65b8c1ad",
   "metadata": {
    "papermill": {
     "duration": 0.013527,
     "end_time": "2024-10-18T09:23:00.072101",
     "exception": false,
     "start_time": "2024-10-18T09:23:00.058574",
     "status": "completed"
    },
    "tags": []
   },
   "source": [
    "## Lets check the label column "
   ]
  },
  {
   "cell_type": "code",
   "execution_count": 9,
   "id": "64488823",
   "metadata": {
    "execution": {
     "iopub.execute_input": "2024-10-18T09:23:00.101083Z",
     "iopub.status.busy": "2024-10-18T09:23:00.100636Z",
     "iopub.status.idle": "2024-10-18T09:23:00.110415Z",
     "shell.execute_reply": "2024-10-18T09:23:00.109165Z"
    },
    "papermill": {
     "duration": 0.027173,
     "end_time": "2024-10-18T09:23:00.112818",
     "exception": false,
     "start_time": "2024-10-18T09:23:00.085645",
     "status": "completed"
    },
    "tags": []
   },
   "outputs": [
    {
     "data": {
      "text/plain": [
       "label\n",
       "ham     3672\n",
       "spam    1499\n",
       "Name: count, dtype: int64"
      ]
     },
     "execution_count": 9,
     "metadata": {},
     "output_type": "execute_result"
    }
   ],
   "source": [
    "df[\"label\"].value_counts()"
   ]
  },
  {
   "cell_type": "markdown",
   "id": "29fae09d",
   "metadata": {
    "papermill": {
     "duration": 0.013653,
     "end_time": "2024-10-18T09:23:00.140706",
     "exception": false,
     "start_time": "2024-10-18T09:23:00.127053",
     "status": "completed"
    },
    "tags": []
   },
   "source": [
    "---\n",
    "# **Data Visulization**"
   ]
  },
  {
   "cell_type": "markdown",
   "id": "6414b30f",
   "metadata": {
    "papermill": {
     "duration": 0.013748,
     "end_time": "2024-10-18T09:23:00.168483",
     "exception": false,
     "start_time": "2024-10-18T09:23:00.154735",
     "status": "completed"
    },
    "tags": []
   },
   "source": [
    "- In label column its clearly understand that ham(3672) counting is higher then spam(1499)"
   ]
  },
  {
   "cell_type": "code",
   "execution_count": 10,
   "id": "982ea675",
   "metadata": {
    "execution": {
     "iopub.execute_input": "2024-10-18T09:23:00.198665Z",
     "iopub.status.busy": "2024-10-18T09:23:00.198231Z",
     "iopub.status.idle": "2024-10-18T09:23:00.719278Z",
     "shell.execute_reply": "2024-10-18T09:23:00.717934Z"
    },
    "papermill": {
     "duration": 0.53971,
     "end_time": "2024-10-18T09:23:00.722366",
     "exception": false,
     "start_time": "2024-10-18T09:23:00.182656",
     "status": "completed"
    },
    "tags": []
   },
   "outputs": [
    {
     "data": {
      "image/png": "[encoded data removed]",
      "text/plain": [
       "<Figure size 640x480 with 1 Axes>"
      ]
     },
     "metadata": {},
     "output_type": "display_data"
    }
   ],
   "source": [
    "# Set the overall aesthetic of the plots\n",
    "sns.set(style=\"whitegrid\")  # Professional style with grid\n",
    "\n",
    "# Use the 'Dark2' palette for professional color tones\n",
    "sns.histplot(data=df, x=\"label_num\", hue=\"label\", palette=\"Dark2\", linewidth=1.5)\n",
    "\n",
    "plt.title(\"Distribution of Label Numbers\", fontsize=16, fontweight='bold')\n",
    "plt.xlabel(\"Label Numbers\", fontsize=14)\n",
    "plt.ylabel(\"Counting\", fontsize=14)\n",
    "\n",
    "plt.show()\n"
   ]
  },
  {
   "cell_type": "code",
   "execution_count": 11,
   "id": "c2059e6c",
   "metadata": {
    "execution": {
     "iopub.execute_input": "2024-10-18T09:23:00.755877Z",
     "iopub.status.busy": "2024-10-18T09:23:00.754850Z",
     "iopub.status.idle": "2024-10-18T09:23:01.000183Z",
     "shell.execute_reply": "2024-10-18T09:23:00.998717Z"
    },
    "papermill": {
     "duration": 0.266668,
     "end_time": "2024-10-18T09:23:01.004244",
     "exception": false,
     "start_time": "2024-10-18T09:23:00.737576",
     "status": "completed"
    },
    "tags": []
   },
   "outputs": [
    {
     "data": {
      "image/png": "[encoded data removed]",
      "text/plain": [
       "<Figure size 640x480 with 1 Axes>"
      ]
     },
     "metadata": {},
     "output_type": "display_data"
    }
   ],
   "source": [
    "# lets check through pie chart\n",
    "labels = df['label'].value_counts().index\n",
    "sizes = df['label'].value_counts().values\n",
    "colors = ['#FF9999', '#66B3FF', '#99FF99', '#FFCC99', '#FFD700']  # Define custom colors\n",
    "\n",
    "plt.pie(sizes, labels=labels, colors=colors, autopct='%1.1f%%')\n",
    "plt.axis('equal')  # Ensures the pie chart is a circle\n",
    "plt.show()\n"
   ]
  },
  {
   "cell_type": "markdown",
   "id": "de72e3c2",
   "metadata": {
    "papermill": {
     "duration": 0.025601,
     "end_time": "2024-10-18T09:23:01.059385",
     "exception": false,
     "start_time": "2024-10-18T09:23:01.033784",
     "status": "completed"
    },
    "tags": []
   },
   "source": [
    "---\n",
    "# **Data Preprocessing**"
   ]
  },
  {
   "cell_type": "code",
   "execution_count": 12,
   "id": "3274cdfd",
   "metadata": {
    "execution": {
     "iopub.execute_input": "2024-10-18T09:23:01.097062Z",
     "iopub.status.busy": "2024-10-18T09:23:01.096606Z",
     "iopub.status.idle": "2024-10-18T09:23:01.103948Z",
     "shell.execute_reply": "2024-10-18T09:23:01.102759Z"
    },
    "papermill": {
     "duration": 0.027823,
     "end_time": "2024-10-18T09:23:01.106548",
     "exception": false,
     "start_time": "2024-10-18T09:23:01.078725",
     "status": "completed"
    },
    "tags": []
   },
   "outputs": [],
   "source": [
    "# Removing unnecessary  column\n",
    "df.drop([\"Unnamed: 0\"],axis=1,inplace=True)"
   ]
  },
  {
   "cell_type": "code",
   "execution_count": 13,
   "id": "b8850f59",
   "metadata": {
    "execution": {
     "iopub.execute_input": "2024-10-18T09:23:01.139949Z",
     "iopub.status.busy": "2024-10-18T09:23:01.139489Z",
     "iopub.status.idle": "2024-10-18T09:23:01.151548Z",
     "shell.execute_reply": "2024-10-18T09:23:01.150396Z"
    },
    "papermill": {
     "duration": 0.031482,
     "end_time": "2024-10-18T09:23:01.154012",
     "exception": false,
     "start_time": "2024-10-18T09:23:01.122530",
     "status": "completed"
    },
    "tags": []
   },
   "outputs": [
    {
     "data": {
      "text/html": [
       "<div>\n",
       "<style scoped>\n",
       "    .dataframe tbody tr th:only-of-type {\n",
       "        vertical-align: middle;\n",
       "    }\n",
       "\n",
       "    .dataframe tbody tr th {\n",
       "        vertical-align: top;\n",
       "    }\n",
       "\n",
       "    .dataframe thead th {\n",
       "        text-align: right;\n",
       "    }\n",
       "</style>\n",
       "<table border=\"1\" class=\"dataframe\">\n",
       "  <thead>\n",
       "    <tr style=\"text-align: right;\">\n",
       "      <th></th>\n",
       "      <th>label</th>\n",
       "      <th>text</th>\n",
       "      <th>label_num</th>\n",
       "    </tr>\n",
       "  </thead>\n",
       "  <tbody>\n",
       "    <tr>\n",
       "      <th>0</th>\n",
       "      <td>ham</td>\n",
       "      <td>Subject: enron methanol ; meter # : 988291\\r\\n...</td>\n",
       "      <td>0</td>\n",
       "    </tr>\n",
       "    <tr>\n",
       "      <th>1</th>\n",
       "      <td>ham</td>\n",
       "      <td>Subject: hpl nom for january 9 , 2001\\r\\n( see...</td>\n",
       "      <td>0</td>\n",
       "    </tr>\n",
       "    <tr>\n",
       "      <th>2</th>\n",
       "      <td>ham</td>\n",
       "      <td>Subject: neon retreat\\r\\nho ho ho , we ' re ar...</td>\n",
       "      <td>0</td>\n",
       "    </tr>\n",
       "    <tr>\n",
       "      <th>3</th>\n",
       "      <td>spam</td>\n",
       "      <td>Subject: photoshop , windows , office . cheap ...</td>\n",
       "      <td>1</td>\n",
       "    </tr>\n",
       "    <tr>\n",
       "      <th>4</th>\n",
       "      <td>ham</td>\n",
       "      <td>Subject: re : indian springs\\r\\nthis deal is t...</td>\n",
       "      <td>0</td>\n",
       "    </tr>\n",
       "  </tbody>\n",
       "</table>\n",
       "</div>"
      ],
      "text/plain": [
       "  label                                               text  label_num\n",
       "0   ham  Subject: enron methanol ; meter # : 988291\\r\\n...          0\n",
       "1   ham  Subject: hpl nom for january 9 , 2001\\r\\n( see...          0\n",
       "2   ham  Subject: neon retreat\\r\\nho ho ho , we ' re ar...          0\n",
       "3  spam  Subject: photoshop , windows , office . cheap ...          1\n",
       "4   ham  Subject: re : indian springs\\r\\nthis deal is t...          0"
      ]
     },
     "execution_count": 13,
     "metadata": {},
     "output_type": "execute_result"
    }
   ],
   "source": [
    "# Now lets check dataset again\n",
    "df.head()"
   ]
  },
  {
   "cell_type": "code",
   "execution_count": 14,
   "id": "391634a3",
   "metadata": {
    "execution": {
     "iopub.execute_input": "2024-10-18T09:23:01.186645Z",
     "iopub.status.busy": "2024-10-18T09:23:01.186247Z",
     "iopub.status.idle": "2024-10-18T09:23:13.228065Z",
     "shell.execute_reply": "2024-10-18T09:23:13.226817Z"
    },
    "papermill": {
     "duration": 12.061454,
     "end_time": "2024-10-18T09:23:13.230924",
     "exception": false,
     "start_time": "2024-10-18T09:23:01.169470",
     "status": "completed"
    },
    "tags": []
   },
   "outputs": [],
   "source": [
    "# Create the function to preprocess the text\n",
    "\n",
    "def clean_text(text):\n",
    "    \n",
    "    # Remove the punctuations\n",
    "    text = ''.join([char for char in text if char not in string.punctuation])\n",
    "    \n",
    "    # Tokenize the words\n",
    "    words = text.split()\n",
    "    \n",
    "    # Remove stopwords and apply stemming (the library we use)\n",
    "    stop_words = stopwords.words('english')\n",
    "    stemmer = SnowballStemmer('english')\n",
    "    words = [stemmer.stem(word) for word in words if word.lower() not in stop_words]\n",
    "    return ' '.join(words)\n",
    "\n",
    "df['clean_text'] = df['text'].apply(clean_text)\n"
   ]
  },
  {
   "cell_type": "code",
   "execution_count": 15,
   "id": "8dc53a7e",
   "metadata": {
    "execution": {
     "iopub.execute_input": "2024-10-18T09:23:13.264286Z",
     "iopub.status.busy": "2024-10-18T09:23:13.263826Z",
     "iopub.status.idle": "2024-10-18T09:23:13.273238Z",
     "shell.execute_reply": "2024-10-18T09:23:13.271901Z"
    },
    "papermill": {
     "duration": 0.028775,
     "end_time": "2024-10-18T09:23:13.275582",
     "exception": false,
     "start_time": "2024-10-18T09:23:13.246807",
     "status": "completed"
    },
    "tags": []
   },
   "outputs": [
    {
     "data": {
      "text/plain": [
       "0    subject enron methanol meter 988291 follow not...\n",
       "1    subject hpl nom januari 9 2001 see attach file...\n",
       "2    subject neon retreat ho ho ho around wonder ti...\n",
       "3    subject photoshop window offic cheap main tren...\n",
       "4    subject indian spring deal book teco pvr reven...\n",
       "5    subject ehronlin web address chang messag inte...\n",
       "6    subject spring save certif take 30 save 30 use...\n",
       "7    subject look medic best sourc difficult make m...\n",
       "8    subject nom actual flow 2 26 agre forward meli...\n",
       "9    subject nomin oct 21 23 2000 see attach file h...\n",
       "Name: clean_text, dtype: object"
      ]
     },
     "execution_count": 15,
     "metadata": {},
     "output_type": "execute_result"
    }
   ],
   "source": [
    "#Let check the dataset again \n",
    "df.head(10)[\"clean_text\"]"
   ]
  },
  {
   "cell_type": "markdown",
   "id": "6fd377c5",
   "metadata": {
    "papermill": {
     "duration": 0.01543,
     "end_time": "2024-10-18T09:23:13.306863",
     "exception": false,
     "start_time": "2024-10-18T09:23:13.291433",
     "status": "completed"
    },
    "tags": []
   },
   "source": [
    "# **Machine learning**"
   ]
  },
  {
   "cell_type": "code",
   "execution_count": 20,
   "id": "a160da1d",
   "metadata": {
    "execution": {
     "iopub.execute_input": "2024-10-18T09:23:13.341107Z",
     "iopub.status.busy": "2024-10-18T09:23:13.340000Z",
     "iopub.status.idle": "2024-10-18T09:23:13.977759Z",
     "shell.execute_reply": "2024-10-18T09:23:13.976619Z"
    },
    "papermill": {
     "duration": 0.657705,
     "end_time": "2024-10-18T09:23:13.980420",
     "exception": false,
     "start_time": "2024-10-18T09:23:13.322715",
     "status": "completed"
    },
    "tags": []
   },
   "outputs": [],
   "source": [
    "tfidf_vectorizer = TfidfVectorizer()\n",
    "X=tfidf_vectorizer.fit_transform(df[\"clean_text\"]).toarray()\n",
    "y=df[\"label_num\"]"
   ]
  },
  {
   "cell_type": "code",
   "execution_count": 21,
   "id": "7a5d1d91",
   "metadata": {
    "execution": {
     "iopub.execute_input": "2024-10-18T09:23:14.014107Z",
     "iopub.status.busy": "2024-10-18T09:23:14.013646Z",
     "iopub.status.idle": "2024-10-18T09:23:14.025396Z",
     "shell.execute_reply": "2024-10-18T09:23:14.024248Z"
    },
    "papermill": {
     "duration": 0.032078,
     "end_time": "2024-10-18T09:23:14.028273",
     "exception": false,
     "start_time": "2024-10-18T09:23:13.996195",
     "status": "completed"
    },
    "tags": []
   },
   "outputs": [],
   "source": [
    "X_train, X_text, y_train, y_test=train_test_split(X, y ,test_size=0.2,random_state=42)"
   ]
  },
  {
   "cell_type": "code",
   "execution_count": 27,
   "id": "0db720cd",
   "metadata": {
    "execution": {
     "iopub.execute_input": "2024-10-18T09:23:14.062015Z",
     "iopub.status.busy": "2024-10-18T09:23:14.061530Z",
     "iopub.status.idle": "2024-10-18T09:23:21.019990Z",
     "shell.execute_reply": "2024-10-18T09:23:21.018543Z"
    },
    "papermill": {
     "duration": 6.978445,
     "end_time": "2024-10-18T09:23:21.022801",
     "exception": false,
     "start_time": "2024-10-18T09:23:14.044356",
     "status": "completed"
    },
    "tags": []
   },
   "outputs": [
    {
     "name": "stdout",
     "output_type": "stream",
     "text": [
      "Naive Bayes Accuracy: 0.92\n",
      "-----------------------------------------------------\n",
      "              precision    recall  f1-score   support\n",
      "\n",
      "           0       0.90      1.00      0.95       742\n",
      "           1       1.00      0.72      0.84       293\n",
      "\n",
      "    accuracy                           0.92      1035\n",
      "   macro avg       0.95      0.86      0.89      1035\n",
      "weighted avg       0.93      0.92      0.92      1035\n",
      "\n",
      "DTC Accuracy: 0.96\n",
      "-----------------------------------------------------\n",
      "              precision    recall  f1-score   support\n",
      "\n",
      "           0       0.97      0.97      0.97       742\n",
      "           1       0.93      0.93      0.93       293\n",
      "\n",
      "    accuracy                           0.96      1035\n",
      "   macro avg       0.95      0.95      0.95      1035\n",
      "weighted avg       0.96      0.96      0.96      1035\n",
      "\n",
      "GNB Accuracy: 0.94\n",
      "-----------------------------------------------------\n",
      "              precision    recall  f1-score   support\n",
      "\n",
      "           0       0.95      0.97      0.96       742\n",
      "           1       0.91      0.88      0.90       293\n",
      "\n",
      "    accuracy                           0.94      1035\n",
      "   macro avg       0.93      0.92      0.93      1035\n",
      "weighted avg       0.94      0.94      0.94      1035\n",
      "\n",
      "\n",
      "Best Model:\n",
      "DTC with Accuracy: 0.96\n"
     ]
    }
   ],
   "source": [
    "# Define models\n",
    "from sklearn.tree import DecisionTreeClassifier\n",
    "from sklearn.naive_bayes import GaussianNB\n",
    "\n",
    "\n",
    "models = {\n",
    "    \"Naive Bayes\": MultinomialNB(),\n",
    "    \"DTC\": DecisionTreeClassifier(),\n",
    "    \"GNB\": GaussianNB()\n",
    "}\n",
    "\n",
    "best_results = {}\n",
    "best_model_name = None\n",
    "best_accuracy = 0.0 \n",
    "\n",
    "# Train and evaluate models\n",
    "for name, model in models.items():\n",
    "    model.fit(X_train, y_train)  # Training  the model\n",
    "    y_pred = model.predict(X_text)  # Predict on the test set\n",
    "\n",
    "    accuracy = accuracy_score(y_test, y_pred)  # Calculate accuracy\n",
    "    best_results[name] = accuracy  # Store accuracy in the results dictionary\n",
    "\n",
    "    # Display accuracy and classification report for the current model\n",
    "    print(f\"{name} Accuracy: {accuracy:.2f}\")\n",
    "    print(\"-----------------------------------------------------\")\n",
    "    print(classification_report(y_test, y_pred))\n",
    "\n",
    "    # Check if this is the best accuracy so far\n",
    "    if accuracy > best_accuracy:\n",
    "        best_accuracy = accuracy\n",
    "        best_model_name = name\n",
    "\n",
    "# Display the model with the best accuracy at the end\n",
    "print(\"\\nBest Model:\")\n",
    "print(f\"{best_model_name} with Accuracy: {best_accuracy:.2f}\")\n"
   ]
  },
  {
   "cell_type": "code",
   "execution_count": 28,
   "id": "889e5d53",
   "metadata": {
    "execution": {
     "iopub.execute_input": "2024-10-18T09:23:21.056581Z",
     "iopub.status.busy": "2024-10-18T09:23:21.056101Z",
     "iopub.status.idle": "2024-10-18T09:23:21.326616Z",
     "shell.execute_reply": "2024-10-18T09:23:21.325344Z"
    },
    "papermill": {
     "duration": 0.290143,
     "end_time": "2024-10-18T09:23:21.329136",
     "exception": false,
     "start_time": "2024-10-18T09:23:21.038993",
     "status": "completed"
    },
    "tags": []
   },
   "outputs": [
    {
     "data": {
      "image/png": "[encoded data removed]",
      "text/plain": [
       "<Figure size 1200x600 with 1 Axes>"
      ]
     },
     "metadata": {},
     "output_type": "display_data"
    }
   ],
   "source": [
    "# Visualize the models Accuracy \n",
    "\n",
    "# Define a color palette\n",
    "colors = ['#1f77b4', '#ff7f0e']  # Example colors: blue and orange\n",
    "\n",
    "plt.figure(figsize=(12, 6))\n",
    "bars = plt.bar(best_results.keys(), best_results.values(), color=colors)\n",
    "plt.title('Model Comparison', fontsize=16, fontweight='bold')\n",
    "plt.xlabel('Model', fontsize=14)\n",
    "plt.ylabel('Accuracy', fontsize=14)\n",
    "plt.ylim(0.9, 1.0)\n",
    "\n",
    "# Add value labels on top of bars\n",
    "for bar in bars:\n",
    "    height = bar.get_height()\n",
    "    plt.text(bar.get_x() + bar.get_width() / 2, height + 0.01, f'{height:.2f}', \n",
    "             ha='center', va='bottom', fontsize=12, fontweight='bold')\n",
    "\n",
    "plt.grid(axis='y', linestyle='--', alpha=0.7)\n",
    "plt.show()\n"
   ]
  },
  {
   "cell_type": "code",
   "execution_count": null,
   "id": "79bc5e3b",
   "metadata": {
    "papermill": {
     "duration": 0.016436,
     "end_time": "2024-10-18T09:23:21.362307",
     "exception": false,
     "start_time": "2024-10-18T09:23:21.345871",
     "status": "completed"
    },
    "tags": []
   },
   "outputs": [],
   "source": []
  }
 ],
 "metadata": {
  "kaggle": {
   "accelerator": "none",
   "dataSources": [
    {
     "datasetId": 109196,
     "sourceId": 260807,
     "sourceType": "datasetVersion"
    }
   ],
   "dockerImageVersionId": 30786,
   "isGpuEnabled": false,
   "isInternetEnabled": true,
   "language": "python",
   "sourceType": "notebook"
  },
  "kernelspec": {
   "display_name": "Python 3",
   "language": "python",
   "name": "python3"
  },
  "language_info": {
   "codemirror_mode": {
    "name": "ipython",
    "version": 3
   },
   "file_extension": ".py",
   "mimetype": "text/x-python",
   "name": "python",
   "nbconvert_exporter": "python",
   "pygments_lexer": "ipython3",
   "version": "3.12.4"
  },
  "papermill": {
   "default_parameters": {},
   "duration": 29.695075,
   "end_time": "2024-10-18T09:23:22.102179",
   "environment_variables": {},
   "exception": null,
   "input_path": "__notebook__.ipynb",
   "output_path": "__notebook__.ipynb",
   "parameters": {},
   "start_time": "2024-10-18T09:22:52.407104",
   "version": "2.6.0"
  }
 },
 "nbformat": 4,
 "nbformat_minor": 5
}
